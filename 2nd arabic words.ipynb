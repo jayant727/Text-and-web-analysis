{
 "cells": [
  {
   "cell_type": "code",
   "execution_count": 2,
   "metadata": {},
   "outputs": [
    {
     "name": "stdout",
     "output_type": "stream",
     "text": [
      "['إذ', 'إذا', 'إذما', 'إذن', 'أف', 'أقل', 'أكثر', 'ألا', 'إلا', 'التي', 'الذي', 'الذين', 'اللاتي', 'اللائي', 'اللتان', 'اللتيا', 'اللتين', 'اللذان', 'اللذين', 'اللواتي', 'إلى', 'إليك', 'إليكم', 'إليكما', 'إليكن', 'أم', 'أما', 'أما', 'إما', 'أن', 'إن', 'إنا', 'أنا', 'أنت', 'أنتم', 'أنتما', 'أنتن', 'إنما', 'إنه', 'أنى', 'أنى', 'آه', 'آها', 'أو', 'أولاء', 'أولئك', 'أوه', 'آي', 'أي', 'أيها', 'إي', 'أين', 'أين', 'أينما', 'إيه', 'بخ', 'بس', 'بعد', 'بعض', 'بك', 'بكم', 'بكم', 'بكما', 'بكن', 'بل', 'بلى', 'بما', 'بماذا', 'بمن', 'بنا', 'به', 'بها', 'بهم', 'بهما', 'بهن', 'بي', 'بين', 'بيد', 'تلك', 'تلكم', 'تلكما', 'ته', 'تي', 'تين', 'تينك', 'ثم', 'ثمة', 'حاشا', 'حبذا', 'حتى', 'حيث', 'حيثما', 'حين', 'خلا', 'دون', 'ذا', 'ذات', 'ذاك', 'ذان', 'ذانك', 'ذلك', 'ذلكم', 'ذلكما', 'ذلكن', 'ذه', 'ذو', 'ذوا', 'ذواتا', 'ذواتي', 'ذي', 'ذين', 'ذينك', 'ريث', 'سوف', 'سوى', 'شتان', 'عدا', 'عسى', 'عل', 'على', 'عليك', 'عليه', 'عما', 'عن', 'عند', 'غير', 'فإذا', 'فإن', 'فلا', 'فمن', 'في', 'فيم', 'فيما', 'فيه', 'فيها', 'قد', 'كأن', 'كأنما', 'كأي', 'كأين', 'كذا', 'كذلك', 'كل', 'كلا', 'كلاهما', 'كلتا', 'كلما', 'كليكما', 'كليهما', 'كم', 'كم', 'كما', 'كي', 'كيت', 'كيف', 'كيفما', 'لا', 'لاسيما', 'لدى', 'لست', 'لستم', 'لستما', 'لستن', 'لسن', 'لسنا', 'لعل', 'لك', 'لكم', 'لكما', 'لكن', 'لكنما', 'لكي', 'لكيلا', 'لم', 'لما', 'لن', 'لنا', 'له', 'لها', 'لهم', 'لهما', 'لهن', 'لو', 'لولا', 'لوما', 'لي', 'لئن', 'ليت', 'ليس', 'ليسا', 'ليست', 'ليستا', 'ليسوا', 'ما', 'ماذا', 'متى', 'مذ', 'مع', 'مما', 'ممن', 'من', 'منه', 'منها', 'منذ', 'مه', 'مهما', 'نحن', 'نحو', 'نعم', 'ها', 'هاتان', 'هاته', 'هاتي', 'هاتين', 'هاك', 'هاهنا', 'هذا', 'هذان', 'هذه', 'هذي', 'هذين', 'هكذا', 'هل', 'هلا', 'هم', 'هما', 'هن', 'هنا', 'هناك', 'هنالك', 'هو', 'هؤلاء', 'هي', 'هيا', 'هيت', 'هيهات', 'والذي', 'والذين', 'وإذ', 'وإذا', 'وإن', 'ولا', 'ولكن', 'ولو', 'وما', 'ومن', 'وهو', 'يا']\n"
     ]
    }
   ],
   "source": [
    "from nltk.corpus import stopwords\n",
    "stopwords_list=stopwords.words('arabic')\n",
    "print(stopwords_list)"
   ]
  },
  {
   "cell_type": "code",
   "execution_count": 4,
   "metadata": {},
   "outputs": [
    {
     "name": "stdout",
     "output_type": "stream",
     "text": [
      "list of stopwords in english\n",
      "{'only', 'won', 'needn', 'until', 'themselves', 'am', 'nor', \"hasn't\", 'below', 'they', 'be', 'shan', 'doesn', 'them', 'some', 'off', 'into', 'now', \"hadn't\", 'these', 'very', 'she', 'through', 'myself', 'being', \"couldn't\", 'was', 'were', 'herself', 'did', \"wasn't\", 'whom', 'me', 'few', 'its', 'who', \"isn't\", \"you'll\", 'between', 'down', 'hasn', 'haven', \"it's\", 'if', \"you're\", 'when', 'too', 'to', 'no', 'hadn', 'own', 'what', 't', 'yourselves', 'theirs', 'didn', 'against', 'itself', \"that'll\", 'out', 'under', 'how', \"needn't\", 'because', 'ma', \"shouldn't\", 'wasn', \"wouldn't\", 's', \"aren't\", 'been', 'can', 'y', 'yours', \"she's\", 'each', \"didn't\", 'shouldn', 'couldn', 'we', 'and', \"you'd\", 'then', 'm', 'in', 'do', 'by', 'but', 'll', 'had', 'of', 'again', 'has', 'further', 'most', 'those', 'above', 'that', 'than', 'her', 'ain', \"haven't\", 'mightn', 'should', 'all', \"weren't\", 'for', 'don', 'or', 'during', 'where', 've', 'o', 'at', 'same', 'weren', 'i', 'doing', 'ours', 'before', \"mightn't\", 'once', 'why', 'have', 'it', 'him', 'mustn', 'there', 'just', 'are', 'an', 'other', 'here', 'd', 'ourselves', 'our', 'having', 'a', 'such', 'hers', \"doesn't\", 'isn', 'his', 'will', 'is', 're', 'both', \"won't\", 'from', 'which', 'this', \"should've\", 'while', 'about', 'you', 'after', 'as', 'on', 'with', \"don't\", 'over', 'more', 'their', 'any', 'wouldn', \"mustn't\", 'does', 'not', 'so', 'my', 'he', \"shan't\", 'himself', 'yourself', 'up', \"you've\", 'aren', 'your', 'the'}\n",
      "{'until', 'themselves', 'am', 'nor', \"hasn't\", 'below', 'they', 'be', 'shan', 'doesn', 'them', 'some', 'off', 'into', 'now', \"hadn't\", 'these', 'very', 'she', 'through', 'myself', 'being', \"couldn't\", 'was', 'were', 'herself', 'did', \"wasn't\", 'whom', 'me', 'few', 'its', 'who', \"isn't\", \"you'll\", 'between', 'down', 'hasn', 'haven', \"it's\", 'if', \"you're\", 'when', 'too', 'to', 'no', 'hadn', 'own', 'what', 't', 'yourselves', 'theirs', 'didn', 'against', 'itself', \"that'll\", 'out', 'under', 'how', \"needn't\", 'because', 'ma', \"shouldn't\", 'wasn', \"wouldn't\", 's', \"aren't\", 'been', 'can', 'y', 'yours', \"she's\", 'each', \"didn't\", 'shouldn', 'couldn', 'we', 'and', \"you'd\", 'then', 'm', 'in', 'do', 'by', 'but', 'll', 'had', 'of', 'again', 'has', 'further', 'most', 'those', 'above', 'that', 'than', 'her', 'ain', \"haven't\", 'mightn', 'should', 'all', \"weren't\", 'for', 'don', 'or', 'during', 'where', 've', 'o', 'at', 'same', 'weren', 'i', 'doing', 'ours', 'before', \"mightn't\", 'once', 'why', 'have', 'it', 'him', 'mustn', 'there', 'just', 'are', 'an', 'other', 'here', 'd', 'ourselves', 'our', 'having', 'a', 'such', 'hers', \"doesn't\", 'isn', 'his', 'will', 'is', 're', 'both', \"won't\", 'from', 'which', 'this', \"should've\", 'while', 'about', 'you', 'after', 'as', 'on', 'with', \"don't\", 'over', 'more', 'their', 'any', 'wouldn', \"mustn't\", 'does', 'not', 'so', 'my', 'he', \"shan't\", 'himself', 'yourself', 'up', \"you've\", 'aren', 'your', 'the'}\n"
     ]
    }
   ],
   "source": [
    "r=set(stopwords.words('english'))\n",
    "print('list of stopwords in english')\n",
    "print(r)\n",
    "\n",
    "stop_words= set(stopwords.words('english'))-set(['only', 'won' , 'needn'])\n",
    "print(stop_words)"
   ]
  },
  {
   "cell_type": "code",
   "execution_count": null,
   "metadata": {},
   "outputs": [],
   "source": []
  }
 ],
 "metadata": {
  "kernelspec": {
   "display_name": "Python 3",
   "language": "python",
   "name": "python3"
  },
  "language_info": {
   "codemirror_mode": {
    "name": "ipython",
    "version": 3
   },
   "file_extension": ".py",
   "mimetype": "text/x-python",
   "name": "python",
   "nbconvert_exporter": "python",
   "pygments_lexer": "ipython3",
   "version": "3.8.5"
  }
 },
 "nbformat": 4,
 "nbformat_minor": 4
}
