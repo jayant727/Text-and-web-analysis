{
 "cells": [
  {
   "cell_type": "code",
   "execution_count": 1,
   "metadata": {},
   "outputs": [],
   "source": [
    "import nltk\n",
    "from nltk.corpus import stopwords\n"
   ]
  },
  {
   "cell_type": "code",
   "execution_count": 2,
   "metadata": {},
   "outputs": [
    {
     "data": {
      "text/plain": [
       "['arabic',\n",
       " 'azerbaijani',\n",
       " 'danish',\n",
       " 'dutch',\n",
       " 'english',\n",
       " 'finnish',\n",
       " 'french',\n",
       " 'german',\n",
       " 'greek',\n",
       " 'hungarian',\n",
       " 'indonesian',\n",
       " 'italian',\n",
       " 'kazakh',\n",
       " 'nepali',\n",
       " 'norwegian',\n",
       " 'portuguese',\n",
       " 'romanian',\n",
       " 'russian',\n",
       " 'slovene',\n",
       " 'spanish',\n",
       " 'swedish',\n",
       " 'tajik',\n",
       " 'turkish']"
      ]
     },
     "execution_count": 2,
     "metadata": {},
     "output_type": "execute_result"
    }
   ],
   "source": [
    "stopwords.fileids()"
   ]
  },
  {
   "cell_type": "markdown",
   "metadata": {},
   "source": [
    "Question 2"
   ]
  },
  {
   "cell_type": "code",
   "execution_count": 3,
   "metadata": {},
   "outputs": [
    {
     "name": "stderr",
     "output_type": "stream",
     "text": [
      "[nltk_data] Downloading package names to\n",
      "[nltk_data]     C:\\Users\\jayant17csu087\\AppData\\Roaming\\nltk_data...\n",
      "[nltk_data]   Package names is already up-to-date!\n"
     ]
    },
    {
     "data": {
      "text/plain": [
       "True"
      ]
     },
     "execution_count": 3,
     "metadata": {},
     "output_type": "execute_result"
    }
   ],
   "source": [
    "nltk.download('names')"
   ]
  },
  {
   "cell_type": "code",
   "execution_count": 4,
   "metadata": {},
   "outputs": [],
   "source": [
    "from nltk.corpus import names\n"
   ]
  },
  {
   "cell_type": "code",
   "execution_count": 6,
   "metadata": {},
   "outputs": [
    {
     "data": {
      "text/plain": [
       "['female.txt', 'male.txt']"
      ]
     },
     "execution_count": 6,
     "metadata": {},
     "output_type": "execute_result"
    }
   ],
   "source": [
    "names.fileids()"
   ]
  },
  {
   "cell_type": "code",
   "execution_count": 7,
   "metadata": {},
   "outputs": [
    {
     "name": "stdout",
     "output_type": "stream",
     "text": [
      "5001\n"
     ]
    }
   ],
   "source": [
    "print(len(names.words('female.txt')))"
   ]
  },
  {
   "cell_type": "code",
   "execution_count": 11,
   "metadata": {},
   "outputs": [
    {
     "name": "stdout",
     "output_type": "stream",
     "text": [
      "2943\n"
     ]
    }
   ],
   "source": [
    "print(len(names.words('male.txt')))"
   ]
  },
  {
   "cell_type": "code",
   "execution_count": 13,
   "metadata": {},
   "outputs": [
    {
     "data": {
      "text/plain": [
       "['Abagael',\n",
       " 'Abagail',\n",
       " 'Abbe',\n",
       " 'Abbey',\n",
       " 'Abbi',\n",
       " 'Abbie',\n",
       " 'Abby',\n",
       " 'Abigael',\n",
       " 'Abigail',\n",
       " 'Abigale',\n",
       " 'Abra',\n",
       " 'Acacia',\n",
       " 'Ada',\n",
       " 'Adah',\n",
       " 'Adaline']"
      ]
     },
     "execution_count": 13,
     "metadata": {},
     "output_type": "execute_result"
    }
   ],
   "source": [
    "names.words('female.txt')[:15]"
   ]
  },
  {
   "cell_type": "code",
   "execution_count": 14,
   "metadata": {},
   "outputs": [
    {
     "data": {
      "text/plain": [
       "['Aamir',\n",
       " 'Aaron',\n",
       " 'Abbey',\n",
       " 'Abbie',\n",
       " 'Abbot',\n",
       " 'Abbott',\n",
       " 'Abby',\n",
       " 'Abdel',\n",
       " 'Abdul',\n",
       " 'Abdulkarim']"
      ]
     },
     "execution_count": 14,
     "metadata": {},
     "output_type": "execute_result"
    }
   ],
   "source": [
    "names.words('male.txt')[:15]"
   ]
  },
  {
   "cell_type": "code",
   "execution_count": 8,
   "metadata": {},
   "outputs": [],
   "source": [
    "from nltk.corpus import wordnet"
   ]
  },
  {
   "cell_type": "code",
   "execution_count": 11,
   "metadata": {},
   "outputs": [
    {
     "name": "stdout",
     "output_type": "stream",
     "text": [
      "Defination of said word:  \n",
      "an expression of greeting\n",
      "Example of word in use:: \n",
      "['every morning they exchanged polite hellos']\n"
     ]
    }
   ],
   "source": [
    "syns=wordnet.synsets('hello')\n",
    "print ('Defination of said word:  ')\n",
    "print (syns[0].definition())\n",
    "print ('Example of word in use:: ')\n",
    "print (syns[0].examples())"
   ]
  },
  {
   "cell_type": "code",
   "execution_count": 12,
   "metadata": {},
   "outputs": [
    {
     "name": "stdout",
     "output_type": "stream",
     "text": [
      "Lauren\n",
      "Jermain\n",
      "Carole\n",
      "Web\n",
      "Farrand\n",
      "Scarlett\n",
      "Alfie\n",
      "Marlee\n",
      "Lazare\n",
      "Benji\n",
      "Olympe\n",
      "Annalise\n",
      "Roslyn\n",
      "Secunda\n",
      "Isahella\n",
      "Staci\n",
      "Bealle\n",
      "Kaia\n",
      "Arly\n",
      "Berni\n"
     ]
    }
   ],
   "source": [
    "import random\n",
    "r= names.words('male.txt')+names.words('female.txt')\n",
    "for i in range(20):\n",
    "    print(random.choice(r))"
   ]
  },
  {
   "cell_type": "markdown",
   "metadata": {},
   "source": [
    "Question 3"
   ]
  },
  {
   "cell_type": "code",
   "execution_count": null,
   "metadata": {},
   "outputs": [],
   "source": []
  },
  {
   "cell_type": "code",
   "execution_count": 19,
   "metadata": {},
   "outputs": [
    {
     "name": "stdout",
     "output_type": "stream",
     "text": [
      "List of stopwords in English:\n",
      "{\"should've\", 'once', 'while', 'have', 'o', 'who', 'himself', 'or', 'ourselves', 'up', \"wouldn't\", 'ma', 'not', 'won', 'other', 'own', 'from', 'why', 'his', 'until', 'against', \"don't\", \"it's\", 'myself', 've', 'each', \"you've\", 'we', 'it', 'doesn', 'aren', 'of', \"hadn't\", 'out', 'wouldn', 'wasn', 'but', 'a', \"haven't\", 'what', 'through', 'again', 'does', 'more', 'can', 'couldn', 'before', 'further', 'will', 'whom', 'between', 'was', 'in', 't', \"hasn't\", \"needn't\", 'yourself', 'too', 'after', 'being', \"weren't\", 'they', 'its', 'about', 'how', 'most', 'the', 'theirs', 'so', 's', 'below', 'any', 'i', 'him', 'some', \"isn't\", 'all', \"you're\", 'because', \"you'd\", 'down', 'me', 'them', 'when', 'having', 'll', 'then', \"couldn't\", 'mightn', 'your', 'same', 'themselves', 'my', 'itself', 'weren', 'off', \"that'll\", 'm', 'that', 'here', 'didn', 'with', 'an', 'their', \"wasn't\", 'few', 'd', 'ain', 'our', \"didn't\", \"shouldn't\", 'he', 'those', 'both', 'shouldn', 'into', 'where', 'had', 'don', 'there', 'hadn', 'as', 'these', 'on', 'no', 'mustn', 'been', 'are', 'yours', 'over', 'should', 'and', \"shan't\", 'be', 'than', 'isn', 'needn', 'for', 'am', 'above', 'you', 'yourselves', 'is', 'nor', 'which', 'haven', 'y', 'hers', 'do', 'she', 'now', \"aren't\", 'ours', 'this', \"you'll\", 'hasn', 'if', 'to', 'just', 'did', \"mustn't\", 'very', 'her', 'shan', \"won't\", \"mightn't\", 'during', 'has', 'by', 'doing', 'at', 'under', 'were', \"she's\", 'such', 'only', \"doesn't\", 'herself', 're'}\n"
     ]
    }
   ],
   "source": [
    "x = set(stopwords.words('English'))\n",
    "print(\"List of stopwords in English:\")\n",
    "print(x)\n"
   ]
  },
  {
   "cell_type": "code",
   "execution_count": 20,
   "metadata": {},
   "outputs": [
    {
     "name": "stdout",
     "output_type": "stream",
     "text": [
      "\n",
      "\n",
      "Omit - 'to','some'and'yourself': \n",
      "\n",
      "List of fresh stopwords in English:\n",
      "{\"should've\", 'while', 'have', 'o', 'who', 'himself', 'or', 'ourselves', 'up', \"wouldn't\", 'ma', 'not', 'won', 'other', 'own', 'why', 'his', 'until', 'against', \"don't\", \"it's\", 'myself', 've', 'each', \"you've\", 'we', 'it', 'doesn', 'aren', 'of', \"hadn't\", 'out', 'wouldn', 'wasn', 'but', 'a', \"haven't\", 'what', 'through', 'does', 'more', 'can', 'couldn', 'before', 'further', 'will', 'whom', 'between', 'was', 'in', 't', \"hasn't\", \"needn't\", 'yourself', 'too', 'after', 'being', \"weren't\", 'they', 'its', 'about', 'how', 'most', 'the', 'theirs', 'so', 's', 'below', 'any', 'i', 'him', 'some', \"isn't\", 'all', \"you're\", 'because', \"you'd\", 'down', 'me', 'them', 'when', 'having', 'll', 'then', \"couldn't\", 'mightn', 'your', 'same', 'themselves', 'my', 'itself', 'weren', 'off', \"that'll\", 'm', 'that', 'here', 'didn', 'with', 'an', 'their', \"wasn't\", 'few', 'd', 'ain', 'our', \"didn't\", \"shouldn't\", 'he', 'those', 'both', 'shouldn', 'into', 'where', 'had', 'don', 'there', 'hadn', 'as', 'these', 'on', 'no', 'mustn', 'been', 'are', 'yours', 'over', 'should', 'and', \"shan't\", 'be', 'than', 'isn', 'needn', 'for', 'am', 'above', 'you', 'yourselves', 'is', 'nor', 'which', 'haven', 'y', 'hers', 'do', 'she', 'now', \"aren't\", 'ours', 'this', \"you'll\", 'hasn', 'if', 'to', 'just', 'did', \"mustn't\", 'very', 'her', 'shan', \"won't\", \"mightn't\", 'during', 'has', 'by', 'doing', 'at', 'under', 'were', \"she's\", 'such', 'only', \"doesn't\", 'herself', 're'}\n"
     ]
    }
   ],
   "source": [
    "print(\"\\n\\nOmit - 'to','some'and'yourself': \")\n",
    "stp_words = set(stopwords.words('english')) - set(['again', 'once', 'from'])\n",
    "print(\"\\nList of fresh stopwords in English:\")\n",
    "print (stp_words)"
   ]
  },
  {
   "cell_type": "markdown",
   "metadata": {},
   "source": [
    "Qeustion 4"
   ]
  },
  {
   "cell_type": "code",
   "execution_count": 21,
   "metadata": {},
   "outputs": [
    {
     "name": "stderr",
     "output_type": "stream",
     "text": [
      "[nltk_data] Downloading package wordnet to\n",
      "[nltk_data]     C:\\Users\\jayant17csu087\\AppData\\Roaming\\nltk_data...\n",
      "[nltk_data]   Package wordnet is already up-to-date!\n"
     ]
    },
    {
     "data": {
      "text/plain": [
       "True"
      ]
     },
     "execution_count": 21,
     "metadata": {},
     "output_type": "execute_result"
    }
   ],
   "source": [
    "nltk.download('wordnet')"
   ]
  },
  {
   "cell_type": "code",
   "execution_count": 22,
   "metadata": {},
   "outputs": [],
   "source": [
    "from nltk.corpus import wordnet"
   ]
  },
  {
   "cell_type": "code",
   "execution_count": 26,
   "metadata": {},
   "outputs": [
    {
     "name": "stdout",
     "output_type": "stream",
     "text": [
      "Defination of the said word:\n",
      "the event of something ending\n",
      "\n",
      "Examples of the word in use::\n",
      "['they made a stopover to visit their friends']\n"
     ]
    }
   ],
   "source": [
    "syns = wordnet.synsets(\"stop\")\n",
    "print(\"Defination of the said word:\")\n",
    "print(syns[0].definition())\n",
    "print(\"\\nExamples of the word in use::\")\n",
    "print(syns[2].examples())"
   ]
  },
  {
   "cell_type": "markdown",
   "metadata": {},
   "source": [
    "Question 5"
   ]
  },
  {
   "cell_type": "code",
   "execution_count": 27,
   "metadata": {},
   "outputs": [
    {
     "name": "stdout",
     "output_type": "stream",
     "text": [
      "Illa\n",
      "Mikael\n",
      "Joannes\n",
      "Corry\n",
      "Osmund\n",
      "Aldis\n",
      "Christie\n",
      "Carlo\n",
      "Edith\n",
      "Andie\n",
      "Cinderella\n",
      "Tommy\n",
      "Stefanie\n",
      "Stephine\n",
      "Carlee\n",
      "Clementia\n",
      "Ursula\n",
      "Tuck\n",
      "Maggee\n",
      "Laurianne\n"
     ]
    }
   ],
   "source": [
    "import random\n",
    "x = names.words('male.txt')+names.words('female.txt')\n",
    "for i in range(20):\n",
    "    print(random.choice(x))"
   ]
  },
  {
   "cell_type": "code",
   "execution_count": null,
   "metadata": {},
   "outputs": [],
   "source": []
  }
 ],
 "metadata": {
  "kernelspec": {
   "display_name": "Python 3",
   "language": "python",
   "name": "python3"
  },
  "language_info": {
   "codemirror_mode": {
    "name": "ipython",
    "version": 3
   },
   "file_extension": ".py",
   "mimetype": "text/x-python",
   "name": "python",
   "nbconvert_exporter": "python",
   "pygments_lexer": "ipython3",
   "version": "3.8.5"
  }
 },
 "nbformat": 4,
 "nbformat_minor": 4
}
